{
  "nbformat": 4,
  "nbformat_minor": 0,
  "metadata": {
    "colab": {
      "provenance": []
    },
    "kernelspec": {
      "name": "python3",
      "display_name": "Python 3"
    },
    "language_info": {
      "name": "python"
    }
  },
  "cells": [
    {
      "cell_type": "markdown",
      "source": [
        "Farwa khan\n",
        "\n",
        "FA20-BSE-043 "
      ],
      "metadata": {
        "id": "AtoiPGVpegM8"
      }
    },
    {
      "cell_type": "markdown",
      "source": [
        "**Activity 1:-**\n",
        "Consider a toy problem that can be represented as a following graph. How would you represent this graph in python?"
      ],
      "metadata": {
        "id": "KeaVgL20JNoX"
      }
    },
    {
      "cell_type": "code",
      "execution_count": null,
      "metadata": {
        "id": "kKnzCu4AHHUy"
      },
      "outputs": [],
      "source": [
        "class Node:\n",
        "  def _init_(obj,state,parent,actions,totalcost):\n",
        "    obj.state = state\n",
        "    obj.parent = parent\n",
        "    obj.actions = actions\n",
        "    obj.totalcost = totalcost\n",
        "\n",
        "    graph = {\n",
        "              'A': Node('A', None, ['B', 'E', 'C'], None),\n",
        "              'B': Node('B', None, ['D', 'E', 'A'], None),\n",
        "              'C': Node('C', None, ['A', 'F', 'G'], None),\n",
        "              'D': Node('D', None, ['B', 'E'], None),\n",
        "              'E': Node('E', None, ['A', 'B', 'D'], None),\n",
        "              'F': Node('F', None, ['C'], None),\n",
        "              'G': Node('G', None, ['C'], None),\n",
        "    }\n"
      ]
    },
    {
      "cell_type": "markdown",
      "source": [
        "**Activity 2:-** \n",
        "For the graph in previous activity, imagine node A as starting node and your goal is to reach F. Keeping depth first search in mind, describe a sequence of actions that you must take to reach that goal state"
      ],
      "metadata": {
        "id": "k5L7SzfmJWKu"
      }
    },
    {
      "cell_type": "code",
      "source": [
        "class Node:\n",
        "    def __init__(self, state, parent, actions, totalcost):\n",
        "        self.state = state\n",
        "        self.parent = parent\n",
        "        self.actions = actions\n",
        "        self.totalcost = totalcost\n",
        "\n",
        "def DFS():\n",
        "    initialstate = 'A'\n",
        "    goalstate = 'D'\n",
        "    graph = {\n",
        "        'A': Node('A', None, ['B', 'E', 'C'], None),\n",
        "        'B': Node('B', None, ['D', 'E', 'A'], None),\n",
        "        'C': Node('C', None, ['A', 'F', 'G'], None),\n",
        "        'D': Node('D', None, ['B', 'E'], None),\n",
        "        'E': Node('E', None, ['A', 'B', 'D'], None),\n",
        "        'F': Node('F', None, ['C'], None),\n",
        "        'G': Node('G', None, ['C'], None),\n",
        "    }\n",
        "    frontier = [initialstate]\n",
        "    explored = []\n",
        "    while len(frontier) != 0:\n",
        "        currentNode = frontier.pop()\n",
        "        explored.append(currentNode)\n",
        "        currentChildren = 0\n",
        "        for child in graph[currentNode].actions:\n",
        "            if child not in frontier and child not in explored:\n",
        "                graph[child].parent = currentNode\n",
        "                if graph[child].state == goalstate:\n",
        "                    print(explored + [goalstate])\n",
        "                    return actionSequence(graph, initialstate, goalstate)\n",
        "                currentChildren = currentChildren + 1\n",
        "                frontier.append(child)\n",
        "        if currentChildren == 0:\n",
        "            explored.pop()\n",
        "    return None\n",
        "\n",
        "def actionSequence(graph, initialstate, goalstate):\n",
        "    solution = [goalstate]\n",
        "    currentParent = graph[goalstate].parent\n",
        "    while currentParent != None:\n",
        "        solution.append(currentParent)\n",
        "        currentParent = graph[currentParent].parent\n",
        "    solution.reverse()\n",
        "    return solution\n",
        "\n",
        "solution = DFS()\n",
        "print(solution)\n"
      ],
      "metadata": {
        "colab": {
          "base_uri": "https://localhost:8080/"
        },
        "id": "aF0J-8dqJh50",
        "outputId": "4962a781-b3b3-4e97-d799-1c0a0d5fba02"
      },
      "execution_count": null,
      "outputs": [
        {
          "output_type": "stream",
          "name": "stdout",
          "text": [
            "['A', 'C', 'E', 'D']\n",
            "['A', 'E', 'D']\n"
          ]
        }
      ]
    },
    {
      "cell_type": "markdown",
      "source": [
        "**Activity 3**\n",
        "Change initial state to D and set goal state as C. What will be resulting path of BFS search? What will be the sequence of nodes explored?"
      ],
      "metadata": {
        "id": "rQr5WiZzQVTe"
      }
    },
    {
      "cell_type": "code",
      "source": [
        "class Node:\n",
        "    def __init__(self, state, parent, actions, totalcost):\n",
        "        self.state = state\n",
        "        self.parent = parent\n",
        "        self.actions = actions\n",
        "        self.totalcost = totalcost\n",
        "\n",
        "def DFS():\n",
        "    initialstate = 'D'\n",
        "    goalstate = 'C'\n",
        "    graph = {\n",
        "        'A': Node('A', None, ['B', 'E', 'C'], None),\n",
        "        'B': Node('B', None, ['D', 'E', 'A'], None),\n",
        "        'C': Node('C', None, ['A', 'F', 'G'], None),\n",
        "        'D': Node('D', None, ['B', 'E'], None),\n",
        "        'E': Node('E', None, ['A', 'B', 'D'], None),\n",
        "        'F': Node('F', None, ['C'], None),\n",
        "        'G': Node('G', None, ['C'], None),\n",
        "    }\n",
        "    frontier = [initialstate]\n",
        "    explored = []\n",
        "    while len(frontier) != 0:\n",
        "        currentNode = frontier.pop()\n",
        "        explored.append(currentNode)\n",
        "        currentChildren = 0\n",
        "        for child in graph[currentNode].actions:\n",
        "            if child not in frontier and child not in explored:\n",
        "                graph[child].parent = currentNode\n",
        "                if graph[child].state == goalstate:\n",
        "                    print(explored + [goalstate])\n",
        "                    return actionSequence(graph, initialstate, goalstate)\n",
        "                currentChildren = currentChildren + 1\n",
        "                frontier.append(child)\n",
        "        if currentChildren == 0:\n",
        "            explored.pop()\n",
        "    return None\n",
        "\n",
        "def actionSequence(graph, initialstate, goalstate):\n",
        "    solution = [goalstate]\n",
        "    currentParent = graph[goalstate].parent\n",
        "    while currentParent != None:\n",
        "        solution.append(currentParent)\n",
        "        currentParent = graph[currentParent].parent\n",
        "    solution.reverse()\n",
        "    return solution\n",
        "\n",
        "solution = DFS()\n",
        "print(solution)\n"
      ],
      "metadata": {
        "colab": {
          "base_uri": "https://localhost:8080/"
        },
        "id": "aP88yrQYQP7N",
        "outputId": "ce38b870-1946-40a2-adde-2ad104ef030b"
      },
      "execution_count": null,
      "outputs": [
        {
          "output_type": "stream",
          "name": "stdout",
          "text": [
            "['D', 'E', 'A', 'C']\n",
            "['D', 'E', 'A', 'C']\n"
          ]
        }
      ]
    },
    {
      "cell_type": "markdown",
      "source": [
        "**Activity 4**\n",
        "Imagine the same tree but this time we also mention the cost of each edge."
      ],
      "metadata": {
        "id": "3-OrK4eaRWJV"
      }
    },
    {
      "cell_type": "code",
      "source": [
        "import math\n",
        "\n",
        "class Node:\n",
        "  def __init__(self,state,parent,actions,totalcost):\n",
        "    self.state = state\n",
        "    self.parent = parent\n",
        "    self.actions = actions\n",
        "    self.totalcost = totalcost\n",
        "\n",
        "def findMin(frontier):\n",
        "  minV = math.inf\n",
        "  node = None\n",
        "  for i in frontier:\n",
        "    if minV>frontier[i][1]:\n",
        "      minV = frontier[i][1]\n",
        "      node = i\n",
        "  return node\n",
        "\n",
        "def actionSequence(graph, initialstate, goalstate):\n",
        "    solution = [goalstate]\n",
        "    currentParent = graph[goalstate].parent\n",
        "    while currentParent != None:\n",
        "        solution.append(currentParent)\n",
        "        currentParent = graph[currentParent].parent\n",
        "    solution.reverse()\n",
        "    return solution\n",
        "\n",
        "def UCS():\n",
        "  initialstate = 'C'\n",
        "  goalstate = 'B'\n",
        "  graph = {\n",
        "        'A': Node('A', None, [('B',6), ('E',1), ('C',9)], 0),\n",
        "        'B': Node('B', None, [('A',6), ('D',3), ('C',4)], 0),\n",
        "        'C': Node('C', None, [('A',9), ('F',2), ('G',3)], 0),\n",
        "        'D': Node('D', None, [('B',3), ('E',5), ('F',7)], 0),\n",
        "        'E': Node('E', None, [('A',1), ('B',4), ('D',5), ('F',6)], 0),\n",
        "        'F': Node('F', None, [('C',2), ('E',6), ('D',7)], 0),\n",
        "        'G': Node('G', None, [('C',3)], 0)\n",
        "    }\n",
        "    \n",
        "  frontier = dict()\n",
        "  frontier[initialstate]=(None, 0)\n",
        "  explored = []\n",
        "\n",
        "  while len(frontier) !=0:\n",
        "    currentNode = findMin(frontier)\n",
        "    del frontier[currentNode]\n",
        "    if graph[currentNode].state == goalstate:\n",
        "      return actionSequence(graph, initialstate, goalstate)\n",
        "    explored.append(currentNode)\n",
        "    for child in graph[currentNode].actions:\n",
        "      currentCost = child[1] + graph[currentNode].totalcost\n",
        "      if child[0] not in frontier and child[0] not in explored:\n",
        "        graph[child[0]].parent = currentNode\n",
        "        graph[child[0]].totalcost = currentCost\n",
        "        frontier[child[0]] = (graph[child[0]].parent, graph[child[0]].totalcost)\n",
        "      elif child[0] in frontier:\n",
        "        if frontier[child[0]][1]< currentCost:\n",
        "          graph[child[0]].parent = frontier[child[0]][0]\n",
        "          graph[child[0]].totalcost = frontier[child[0]][1]\n",
        "        else:\n",
        "          frontier[child[0]]=(currentNode, currentCost)\n",
        "          graph[child[0]].parent = frontier[child[0]][0]\n",
        "          graph[child[0]].totalcost = frontier[child[0]][1]\n",
        "\n",
        "solution = UCS()\n",
        "print(solution)\n"
      ],
      "metadata": {
        "colab": {
          "base_uri": "https://localhost:8080/"
        },
        "id": "E5_TxnbNRcBV",
        "outputId": "e4e77a4b-cf37-400f-9647-99c8fc350507"
      },
      "execution_count": null,
      "outputs": [
        {
          "output_type": "stream",
          "name": "stdout",
          "text": [
            "['C', 'F', 'D', 'B']\n"
          ]
        }
      ]
    },
    {
      "cell_type": "markdown",
      "source": [
        "**Activity 5**\n",
        "Imagine going from Arad to Bucharest in the following map. Your goal is to minimize the distance mentioned in the map during your travel. Implement a uniform cost search to find the corresponding path."
      ],
      "metadata": {
        "id": "OVHSo9YgcVtC"
      }
    },
    {
      "cell_type": "code",
      "source": [
        "from queue import PriorityQueue\n",
        "\n",
        "class Graph:\n",
        "    def __init__(self):\n",
        "        self.graph = {}\n",
        "\n",
        "    def add_edge(self, node, link_node, weight):\n",
        "        if node not in self.graph:\n",
        "           self.graph[node] = {}\n",
        "        if link_node not in self.graph:\n",
        "            self.graph[link_node] = {}\n",
        "        self.graph[node][link_node] = weight\n",
        "        self.graph[link_node][node] = weight\n",
        "             \n",
        "\n",
        "    def uniform_cost_search(self, start, end):\n",
        "        pq = PriorityQueue()\n",
        "        pq.put((0, [start]))\n",
        "        visited = set()\n",
        "        while not pq.empty():\n",
        "            path_weight, path = pq.get()\n",
        "            node = path[-1]\n",
        "            if node == end:\n",
        "                return path, path_weight\n",
        "            if node in visited:\n",
        "                continue\n",
        "            visited.add(node)\n",
        "            for neighbor, weight in self.graph[node].items():\n",
        "                if neighbor not in visited:\n",
        "                    new_path = path + [neighbor]\n",
        "                    new_path_weight = path_weight + weight\n",
        "                    pq.put((new_path_weight, new_path))\n",
        "        return None\n",
        "\n",
        "graph = Graph()\n",
        "graph.add_edge('Arad', 'Zerind',75)\n",
        "graph.add_edge('Arad', 'Timisoara',118)\n",
        "graph.add_edge('Arad', 'Sibiu',140)\n",
        "graph.add_edge('Zerind', 'Oradea',71)\n",
        "graph.add_edge('Timisoara', 'Lugoj',111)\n",
        "graph.add_edge('Sibiu', 'Fagaras',99)\n",
        "graph.add_edge('Sibiu', 'Rimnicu Vilcea',80)\n",
        "graph.add_edge('Sibiu','Oradea',151)\n",
        "graph.add_edge('Lugoj', 'Mehadia',70)\n",
        "graph.add_edge('Mehadia', 'Drobeta',75)\n",
        "graph.add_edge('Drobeta', 'Craiova',120)\n",
        "graph.add_edge('Craiova', 'Pitesti',138)\n",
        "graph.add_edge('Craiova', 'Rimnicu Vilcea',146)\n",
        "graph.add_edge('Fagaras', 'Bucharest',211)\n",
        "graph.add_edge('Rimnicu Vilcea', 'Pitesti',97)\n",
        "graph.add_edge('Pitesti', 'Bucharest',101)\n",
        "graph.add_edge('Bucharest', 'Giurgiu',90)\n",
        "graph.add_edge('Bucharest', 'Urziceni',85)\n",
        "graph.add_edge('Urziceni', 'Vaslui',142)\n",
        "graph.add_edge('Urziceni', 'Hirsova',98)\n",
        "graph.add_edge('Vaslui', 'Iasi',92)\n",
        "graph.add_edge('Iasi', 'Neamt',87)\n",
        "graph.add_edge('Hirsova', 'Eforie',86)\n",
        "\n",
        "path, path_weight = graph.uniform_cost_search('Arad', 'Bucharest')\n",
        "print(path)\n",
        "print(path_weight)\n"
      ],
      "metadata": {
        "colab": {
          "base_uri": "https://localhost:8080/"
        },
        "id": "L9jMcN2nYeL9",
        "outputId": "ab9a5809-dbc8-42b3-dd98-a48505d50b50"
      },
      "execution_count": null,
      "outputs": [
        {
          "output_type": "stream",
          "name": "stdout",
          "text": [
            "['Arad', 'Sibiu', 'Rimnicu Vilcea', 'Pitesti', 'Bucharest']\n",
            "418\n"
          ]
        }
      ]
    }
  ]
}
