{
  "nbformat": 4,
  "nbformat_minor": 0,
  "metadata": {
    "colab": {
      "provenance": [],
      "authorship_tag": "ABX9TyP56nulRDMBAln9GsOJ8r14",
      "include_colab_link": true
    },
    "kernelspec": {
      "name": "python3",
      "display_name": "Python 3"
    },
    "language_info": {
      "name": "python"
    }
  },
  "cells": [
    {
      "cell_type": "markdown",
      "metadata": {
        "id": "view-in-github",
        "colab_type": "text"
      },
      "source": [
        "<a href=\"https://colab.research.google.com/github/Farwakhan971/A.I-Lab/blob/main/Labtask5.ipynb\" target=\"_parent\"><img src=\"https://colab.research.google.com/assets/colab-badge.svg\" alt=\"Open In Colab\"/></a>"
      ]
    },
    {
      "cell_type": "markdown",
      "source": [
        "**Name:- Farwa khan**\n",
        "\n",
        "**Reg No:- FA20-BSE-043**"
      ],
      "metadata": {
        "id": "QSEV3D3RQJ77"
      }
    },
    {
      "cell_type": "markdown",
      "source": [
        " Prove the following relation\n",
        "\n",
        " **d/dx(sinx)=cos(x)**\n",
        "\n",
        " By using the following approximation\n",
        "       d/dx(sinx) = (sin(x+h)-sin(x))/h\n",
        "\n",
        " Assume h=0.001. Imagine x a list that goes from -pi to pi with the increment of 0.001.What happens if you increase the interval h from 0.001 to 0.01 and then to 0.1?"
      ],
      "metadata": {
        "id": "vI5yuxy7QZYW"
      }
    },
    {
      "cell_type": "code",
      "source": [
        "from math import pi, sin, cos\n",
        "def f(x):\n",
        "    return sin(x)\n",
        "h = 0.001\n",
        "x_vals = [-pi,0, pi/4, pi, pi/2, 3*pi/4, pi]\n",
        "for x in x_vals:\n",
        "    derivative = (sin(x+h) - sin(x)) / h\n",
        "    cos_val = cos(x)\n",
        "    print(\"x = {:.3f}: d/dx(sin(x)) = {:.5f}, cos(x) = {:.5f}\".format(x, derivative, cos_val))\n"
      ],
      "metadata": {
        "id": "6mysm_Phc2Q_",
        "colab": {
          "base_uri": "https://localhost:8080/"
        },
        "outputId": "505eafcd-5437-4840-ecd6-d90f268503d0"
      },
      "execution_count": null,
      "outputs": [
        {
          "output_type": "stream",
          "name": "stdout",
          "text": [
            "x = -3.142: d/dx(sin(x)) = -1.00000, cos(x) = -1.00000\n",
            "x = 0.000: d/dx(sin(x)) = 1.00000, cos(x) = 1.00000\n",
            "x = 0.785: d/dx(sin(x)) = 0.70675, cos(x) = 0.70711\n",
            "x = 3.142: d/dx(sin(x)) = -1.00000, cos(x) = -1.00000\n",
            "x = 1.571: d/dx(sin(x)) = -0.00050, cos(x) = 0.00000\n",
            "x = 2.356: d/dx(sin(x)) = -0.70746, cos(x) = -0.70711\n",
            "x = 3.142: d/dx(sin(x)) = -1.00000, cos(x) = -1.00000\n"
          ]
        }
      ]
    },
    {
      "cell_type": "markdown",
      "source": [
        "After increasing the value of h from 0.001 to 0.01, then there is a slight difference in the values of sin(x) and cos(x) in the decimal points."
      ],
      "metadata": {
        "id": "Nt4F72aVRso7"
      }
    },
    {
      "cell_type": "code",
      "source": [
        "from math import pi, sin, cos\n",
        "def f(x):\n",
        "    return sin(x)\n",
        "h = 0.01\n",
        "x_vals = [-pi,0, pi/4, pi, pi/2, 3*pi/4, pi]\n",
        "for x in x_vals:\n",
        "    derivative = (sin(x+h) - sin(x)) / h\n",
        "    cos_val = cos(x)\n",
        "    print(\"x = {:.3f}: d/dx(sin(x)) = {:.5f}, cos(x) = {:.5f}\".format(x, derivative, cos_val))"
      ],
      "metadata": {
        "colab": {
          "base_uri": "https://localhost:8080/"
        },
        "id": "974U0G0GSJSH",
        "outputId": "fbdac9bc-539f-45d0-b8d4-ba5727331968"
      },
      "execution_count": null,
      "outputs": [
        {
          "output_type": "stream",
          "name": "stdout",
          "text": [
            "x = -3.142: d/dx(sin(x)) = -0.99998, cos(x) = -1.00000\n",
            "x = 0.000: d/dx(sin(x)) = 0.99998, cos(x) = 1.00000\n",
            "x = 0.785: d/dx(sin(x)) = 0.70356, cos(x) = 0.70711\n",
            "x = 3.142: d/dx(sin(x)) = -0.99998, cos(x) = -1.00000\n",
            "x = 1.571: d/dx(sin(x)) = -0.00500, cos(x) = 0.00000\n",
            "x = 2.356: d/dx(sin(x)) = -0.71063, cos(x) = -0.70711\n",
            "x = 3.142: d/dx(sin(x)) = -0.99998, cos(x) = -1.00000\n"
          ]
        }
      ]
    },
    {
      "cell_type": "markdown",
      "source": [
        "After increasing the value of h from 0.01 to 0.1, then again there is a slight difference in the values of sin(x) and cos(x) in the decimal points."
      ],
      "metadata": {
        "id": "upT1w1B1SQGS"
      }
    },
    {
      "cell_type": "code",
      "source": [
        "from math import pi, sin, cos\n",
        "def f(x):\n",
        "    return sin(x)\n",
        "h = 0.1\n",
        "x_vals = [-pi,0, pi/4, pi, pi/2, 3*pi/4, pi]\n",
        "for x in x_vals:\n",
        "    derivative = (sin(x+h) - sin(x)) / h\n",
        "    cos_val = cos(x)\n",
        "    print(\"x = {:.3f}: d/dx(sin(x)) = {:.5f}, cos(x) = {:.5f}\".format(x, derivative, cos_val))"
      ],
      "metadata": {
        "colab": {
          "base_uri": "https://localhost:8080/"
        },
        "id": "HC9A2wwOSD2O",
        "outputId": "05b9c8c0-e6ab-4cef-b3d9-453287e64459"
      },
      "execution_count": null,
      "outputs": [
        {
          "output_type": "stream",
          "name": "stdout",
          "text": [
            "x = -3.142: d/dx(sin(x)) = -0.99833, cos(x) = -1.00000\n",
            "x = 0.000: d/dx(sin(x)) = 0.99833, cos(x) = 1.00000\n",
            "x = 0.785: d/dx(sin(x)) = 0.67060, cos(x) = 0.70711\n",
            "x = 3.142: d/dx(sin(x)) = -0.99833, cos(x) = -1.00000\n",
            "x = 1.571: d/dx(sin(x)) = -0.04996, cos(x) = 0.00000\n",
            "x = 2.356: d/dx(sin(x)) = -0.74125, cos(x) = -0.70711\n",
            "x = 3.142: d/dx(sin(x)) = -0.99833, cos(x) = -1.00000\n"
          ]
        }
      ]
    }
  ]
}
