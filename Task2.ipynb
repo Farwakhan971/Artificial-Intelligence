{
  "nbformat": 4,
  "nbformat_minor": 0,
  "metadata": {
    "colab": {
      "provenance": [],
      "authorship_tag": "ABX9TyMViDMneE2Nizqs62qzuO3C",
      "include_colab_link": true
    },
    "kernelspec": {
      "name": "python3",
      "display_name": "Python 3"
    },
    "language_info": {
      "name": "python"
    }
  },
  "cells": [
    {
      "cell_type": "markdown",
      "metadata": {
        "id": "view-in-github",
        "colab_type": "text"
      },
      "source": [
        "<a href=\"https://colab.research.google.com/github/Farwakhan971/A.I-Lab/blob/main/Labtask2.ipynb\" target=\"_parent\"><img src=\"https://colab.research.google.com/assets/colab-badge.svg\" alt=\"Open In Colab\"/></a>"
      ]
    },
    {
      "cell_type": "markdown",
      "source": [
        "## Name:- Farwa Khan\n",
        "## Reg No:- FA20-BSE-043 "
      ],
      "metadata": {
        "id": "3aHsIu7KGn_O"
      }
    },
    {
      "cell_type": "markdown",
      "source": [
        "**Activity 9**\n",
        "\n",
        "*Take an integer from user as input and check whether the given value is even or not.*"
      ],
      "metadata": {
        "id": "H95mYTx7HBhK"
      }
    },
    {
      "cell_type": "code",
      "execution_count": null,
      "metadata": {
        "colab": {
          "base_uri": "https://localhost:8080/"
        },
        "id": "WBBmXol2Hjvn",
        "outputId": "6ff95bbe-2f87-497a-9773-7ad0b1beaed7"
      },
      "outputs": [
        {
          "output_type": "stream",
          "name": "stdout",
          "text": [
            " Enter a number 4\n",
            "The Given Number is Even number\n"
          ]
        }
      ],
      "source": [
        "num = input(\" Enter a number \")\n",
        "if int(num)%2==0:\n",
        "  print(\"The Given Number is Even number\")"
      ]
    },
    {
      "cell_type": "markdown",
      "source": [
        "**Activity 10**\n",
        "\n",
        "*Take an integer from user as input and check whether the given value is even or odd. If the given value is not even then it means that it will be odd.* "
      ],
      "metadata": {
        "id": "kiyT_mPsHXLN"
      }
    },
    {
      "cell_type": "code",
      "source": [
        "n = input(\" Enter a number \")\n",
        "if int(n)%2==0:\n",
        "  print(\"The Given number is an Even number\")\n",
        "else:\n",
        "  print(\"The Given number is an Odd number\")\n"
      ],
      "metadata": {
        "colab": {
          "base_uri": "https://localhost:8080/"
        },
        "id": "htQfuQ0wINio",
        "outputId": "f3dfdea7-ef01-47e9-df37-d2a97ec6783d"
      },
      "execution_count": null,
      "outputs": [
        {
          "output_type": "stream",
          "name": "stdout",
          "text": [
            " Enter a number 11\n",
            "The Given number is an Odd number\n"
          ]
        }
      ]
    },
    {
      "cell_type": "markdown",
      "source": [
        "**Activity 11**\n",
        "\n",
        "*Calculate the sum of all the values between 0-10 using while loop.*"
      ],
      "metadata": {
        "id": "OGtWJtSRHwQO"
      }
    },
    {
      "cell_type": "code",
      "source": [
        "sum = 0\n",
        "i = 1\n",
        "while i<=10:\n",
        "  sum=sum+i\n",
        "  i=i+1\n",
        "print(\" Sum is \", sum)"
      ],
      "metadata": {
        "colab": {
          "base_uri": "https://localhost:8080/"
        },
        "id": "tQ3jH5gtJD_3",
        "outputId": "a977740b-c72c-44d9-8513-de00b47dcdbd"
      },
      "execution_count": null,
      "outputs": [
        {
          "output_type": "stream",
          "name": "stdout",
          "text": [
            " Sum is  55\n"
          ]
        }
      ]
    },
    {
      "cell_type": "markdown",
      "source": [
        "**Activity 12**\n",
        "\n",
        "*Accept 5 integer values from user and display their sum*"
      ],
      "metadata": {
        "id": "-bdIrdaxH5ce"
      }
    },
    {
      "cell_type": "code",
      "source": [
        "sum = 0\n",
        "i = 1\n",
        "while i<=5:\n",
        "  n = input(\" Enter a number \")\n",
        "  num = int(n)\n",
        "  sum = sum + num\n",
        "  i = i+1\n",
        "print(\" Sum of the numbers are \", sum)\n"
      ],
      "metadata": {
        "colab": {
          "base_uri": "https://localhost:8080/"
        },
        "id": "8DZd4VCYKFzO",
        "outputId": "b689f246-1899-4d7e-a939-ab557a29c514"
      },
      "execution_count": null,
      "outputs": [
        {
          "output_type": "stream",
          "name": "stdout",
          "text": [
            " Enter a number 10\n",
            " Enter a number 20\n",
            " Enter a number 30\n",
            " Enter a number 40\n",
            " Enter a number 50\n",
            " Sum of the numbers are  150\n"
          ]
        }
      ]
    },
    {
      "cell_type": "markdown",
      "source": [
        "**Activity 13**\n",
        "\n",
        "*Write a Python code to keep accepting integer values from user until 0 is entered. Display sum of the given values.*"
      ],
      "metadata": {
        "id": "y25urgAgIV1S"
      }
    },
    {
      "cell_type": "code",
      "source": [
        "sum = 0 \n",
        "s = input(\" Enter a number \")\n",
        "n = int(s)\n",
        "while n!=0:\n",
        "  sum = sum + n\n",
        "  s = input(\" Enter a number \")\n",
        "  n = int(s)\n",
        "print(\"Sum of the numbers are : \", sum)"
      ],
      "metadata": {
        "colab": {
          "base_uri": "https://localhost:8080/"
        },
        "id": "GARfFsn4O6L8",
        "outputId": "4f58ac7f-d8f6-4e92-a875-71581f8f8dad"
      },
      "execution_count": null,
      "outputs": [
        {
          "output_type": "stream",
          "name": "stdout",
          "text": [
            " Enter a number 1\n",
            " Enter a number 2\n",
            " Enter a number 3\n",
            " Enter a number 4\n",
            " Enter a number 5\n",
            " Enter a number 0\n",
            "Sum of the numbers are :  15\n"
          ]
        }
      ]
    },
    {
      "cell_type": "markdown",
      "source": [
        "**Activity 14**\n",
        "\n",
        "*Write a Python code to accept an integer value from user and check that whether the given value is prime number or not.*"
      ],
      "metadata": {
        "id": "YK9FJEtLIymE"
      }
    },
    {
      "cell_type": "code",
      "source": [
        "num =int(input(\" Enter the number \"))\n",
        "if num>1:\n",
        "  for i in range(2,num):\n",
        "    if(num%i)==0:\n",
        "      print(num, \" is not a prime number \")\n",
        "      break\n",
        "  else:\n",
        "    print(num, \" is a prime number\")\n",
        "else:\n",
        "  print(1, \" is not a prime number \")\n",
        "      "
      ],
      "metadata": {
        "colab": {
          "base_uri": "https://localhost:8080/"
        },
        "id": "xArWd7s9nNTe",
        "outputId": "b9eba4d9-9aa6-43b0-9fa0-413d8f3fe0c7"
      },
      "execution_count": null,
      "outputs": [
        {
          "output_type": "stream",
          "name": "stdout",
          "text": [
            " Enter the number 17\n",
            "17  is a prime number\n"
          ]
        }
      ]
    },
    {
      "cell_type": "markdown",
      "source": [
        "**Activity 15**\n",
        "\n",
        "*Write a Python code to accept marks of a student from 1-100 and display the grade according to the following formula.*\n",
        "\n",
        "\n",
        "*Grade F if marks are less than 50*\n",
        "\n",
        "*Grade E if marks are between 50 to 60*\n",
        "\n",
        "*Grade D if marks are between 61 to 70*\n",
        "\n",
        "*Grade C if marks are between 71 to 80*\n",
        "\n",
        "*Grade B if marks are between 81 to 90*\n",
        "\n",
        "*Grade A if marks are between 91 to 100* \n"
      ],
      "metadata": {
        "id": "qTRLzXJpI9bL"
      }
    },
    {
      "cell_type": "code",
      "source": [
        "sub1 = int(input(\" Enter Ist Subject  marks \"))\n",
        "sub2 = int(input(\" Enter 2nd Subject marks \"))\n",
        "sub3 = int(input(\" Enter 3rd Subject marks \"))\n",
        "sub4 = int(input(\" Enter 4th Subject marks \"))\n",
        "sub5 = int(input(\" Enter 5th Subject marks \"))\n",
        "sub6 = int(input(\" Enter 6th Subject marks \"))\n",
        "avgmarks = (sub1+sub2+sub3+sub4+sub5+sub6)/6\n",
        "if(avgmarks>=91):\n",
        "  print(\" Your Grade is A \")\n",
        "elif(avgmarks>=81 and avgmarks<=90):\n",
        "  print(\" Your Grade is B \")\n",
        "elif(avgmarks>=71 and avgmarks<=80):\n",
        "  print(\" Your Grade is C \")\n",
        "elif(avgmarks>=61 and avgmarks<=70):\n",
        "  print(\" Your Grade is D \")\n",
        "elif(avgmarks>=50 and avgmarks<=60):\n",
        "  print(\" Your Grade is E \")\n",
        "else:\n",
        "  print(\"Your Grade is F \")\n"
      ],
      "metadata": {
        "id": "ZCRMfgNuoaLA",
        "colab": {
          "base_uri": "https://localhost:8080/"
        },
        "outputId": "3e8656f3-9c36-4505-cee5-f4e647d64556"
      },
      "execution_count": null,
      "outputs": [
        {
          "output_type": "stream",
          "name": "stdout",
          "text": [
            " Enter Ist Subject  marks 100\n",
            " Enter 2nd Subject marks 99\n",
            " Enter 3rd Subject marks 89\n",
            " Enter 4th Subject marks 98\n",
            " Enter 5th Subject marks 79\n",
            " Enter 6th Subject marks 96\n",
            " Your Grade is A \n"
          ]
        }
      ]
    },
    {
      "cell_type": "markdown",
      "source": [
        "**Activity 16**\n",
        "\n",
        "*Write a program that takes a number from user and calculate the factorial of that number.*"
      ],
      "metadata": {
        "id": "ygviYXa3JgAo"
      }
    },
    {
      "cell_type": "code",
      "source": [
        "num = int(input(\" Enter the number \"))\n",
        "fac=1\n",
        "while(num>0):\n",
        "  fac=fac*num\n",
        "  num=num-1\n",
        "print(\" The Factorial of the number is \", fac)\n",
        "\n"
      ],
      "metadata": {
        "colab": {
          "base_uri": "https://localhost:8080/"
        },
        "id": "bmKwa5_pD3pR",
        "outputId": "13466bb2-6925-490e-a22a-01eb2a498d2e"
      },
      "execution_count": null,
      "outputs": [
        {
          "output_type": "stream",
          "name": "stdout",
          "text": [
            " Enter the number 6\n",
            " The Factorial of the number is  720\n"
          ]
        }
      ]
    },
    {
      "cell_type": "code",
      "source": [],
      "metadata": {
        "id": "5pkJQhvlB72a"
      },
      "execution_count": null,
      "outputs": []
    }
  ]
}
