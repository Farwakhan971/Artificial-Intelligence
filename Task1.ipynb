{
  "nbformat": 4,
  "nbformat_minor": 0,
  "metadata": {
    "colab": {
      "provenance": [],
      "authorship_tag": "ABX9TyNmvxIseTteZoTkls3+eJDp",
      "include_colab_link": true
    },
    "kernelspec": {
      "name": "python3",
      "display_name": "Python 3"
    },
    "language_info": {
      "name": "python"
    }
  },
  "cells": [
    {
      "cell_type": "markdown",
      "metadata": {
        "id": "view-in-github",
        "colab_type": "text"
      },
      "source": [
        "<a href=\"https://colab.research.google.com/github/Farwakhan971/A.I-Lab/blob/main/Labtask1.ipynb\" target=\"_parent\"><img src=\"https://colab.research.google.com/assets/colab-badge.svg\" alt=\"Open In Colab\"/></a>"
      ]
    },
    {
      "cell_type": "markdown",
      "source": [
        "**Farwa khan**\n",
        "\n",
        "FA20-BSE-043 "
      ],
      "metadata": {
        "id": "CdCNwBXrzSNB"
      }
    },
    {
      "cell_type": "markdown",
      "source": [
        "**Activity 1**\n"
      ],
      "metadata": {
        "id": "yozwNk62wF7X"
      }
    },
    {
      "cell_type": "code",
      "source": [
        "25"
      ],
      "metadata": {
        "colab": {
          "base_uri": "https://localhost:8080/"
        },
        "id": "YPRjCRL3vywb",
        "outputId": "0eb8be45-1006-4a0e-ba36-7c8dc155a3e5"
      },
      "execution_count": null,
      "outputs": [
        {
          "output_type": "execute_result",
          "data": {
            "text/plain": [
              "25"
            ]
          },
          "metadata": {},
          "execution_count": 1
        }
      ]
    },
    {
      "cell_type": "code",
      "source": [
        "5.6"
      ],
      "metadata": {
        "colab": {
          "base_uri": "https://localhost:8080/"
        },
        "id": "IVUGa0ALv3Ua",
        "outputId": "5b28e39a-4c05-44d7-c6ee-2c2ccf59c061"
      },
      "execution_count": null,
      "outputs": [
        {
          "output_type": "execute_result",
          "data": {
            "text/plain": [
              "5.6"
            ]
          },
          "metadata": {},
          "execution_count": 2
        }
      ]
    },
    {
      "cell_type": "code",
      "source": [
        "print(569)\n",
        "print(67.90)"
      ],
      "metadata": {
        "colab": {
          "base_uri": "https://localhost:8080/"
        },
        "id": "oU-g_8MAv6a7",
        "outputId": "02d29f5f-4f1e-41f9-9816-1b401271a1d8"
      },
      "execution_count": null,
      "outputs": [
        {
          "output_type": "stream",
          "name": "stdout",
          "text": [
            "569\n",
            "67.9\n"
          ]
        }
      ]
    },
    {
      "cell_type": "markdown",
      "source": [
        "**Activity 2**"
      ],
      "metadata": {
        "id": "bE2KM-AYwThc"
      }
    },
    {
      "cell_type": "code",
      "source": [
        "print('Farwa')"
      ],
      "metadata": {
        "colab": {
          "base_uri": "https://localhost:8080/"
        },
        "id": "v4mGXaVcv_5W",
        "outputId": "6cd47ec3-ff4a-4cfd-b50f-b36fc986a5c3"
      },
      "execution_count": null,
      "outputs": [
        {
          "output_type": "stream",
          "name": "stdout",
          "text": [
            "Farwa\n"
          ]
        }
      ]
    },
    {
      "cell_type": "code",
      "source": [
        "print(\"Learning Python programming\")"
      ],
      "metadata": {
        "colab": {
          "base_uri": "https://localhost:8080/"
        },
        "id": "8vJd2qwzwYGK",
        "outputId": "b33f9038-cbed-4249-c004-44f57893e0e2"
      },
      "execution_count": null,
      "outputs": [
        {
          "output_type": "stream",
          "name": "stdout",
          "text": [
            "Learning Python programming\n"
          ]
        }
      ]
    },
    {
      "cell_type": "code",
      "source": [
        "print('''There are almost three types of loops in every programming language\n",
        "1. For loop\n",
        "2. while loop\n",
        "3. Do-while loop''')"
      ],
      "metadata": {
        "colab": {
          "base_uri": "https://localhost:8080/"
        },
        "id": "iIFChfv_wcXt",
        "outputId": "fd8868b8-d0d9-4c7f-ecb7-55d16aca88c5"
      },
      "execution_count": null,
      "outputs": [
        {
          "output_type": "stream",
          "name": "stdout",
          "text": [
            "There are almost three types of loops in every programming language\n",
            "1. For loop\n",
            "2. while loop\n",
            "3. Do-while loop\n"
          ]
        }
      ]
    },
    {
      "cell_type": "code",
      "source": [
        "print(\"\"\"Python language is widely used nowadays because\n",
        "1. Easy to learn\n",
        "2. Easy to use\n",
        "3. It runs on all operating systems MAC OS, X, Linux, Uniux\"\"\")"
      ],
      "metadata": {
        "colab": {
          "base_uri": "https://localhost:8080/"
        },
        "id": "5x66AwmawiAH",
        "outputId": "90ab5b15-1f6f-4169-c7b3-44fd46ae5225"
      },
      "execution_count": null,
      "outputs": [
        {
          "output_type": "stream",
          "name": "stdout",
          "text": [
            "Python language is widely used nowadays because\n",
            "1. Easy to learn\n",
            "2. Easy to use\n",
            "3. It runs on all operating systems MAC OS, X, Linux, Uniux\n"
          ]
        }
      ]
    },
    {
      "cell_type": "markdown",
      "source": [
        "**Activity 3**"
      ],
      "metadata": {
        "id": "lRfjLR1fwnle"
      }
    },
    {
      "cell_type": "code",
      "source": [
        "60-5"
      ],
      "metadata": {
        "colab": {
          "base_uri": "https://localhost:8080/"
        },
        "id": "xtE5knuowj1D",
        "outputId": "2246c751-6ca3-49bc-a29f-aef7e7f872c4"
      },
      "execution_count": null,
      "outputs": [
        {
          "output_type": "execute_result",
          "data": {
            "text/plain": [
              "55"
            ]
          },
          "metadata": {},
          "execution_count": 8
        }
      ]
    },
    {
      "cell_type": "code",
      "source": [
        "78.1/2.4"
      ],
      "metadata": {
        "colab": {
          "base_uri": "https://localhost:8080/"
        },
        "id": "jyCMHLz9xC-E",
        "outputId": "118af3cc-04f1-4f21-b8b7-9f4cca2500bd"
      },
      "execution_count": null,
      "outputs": [
        {
          "output_type": "execute_result",
          "data": {
            "text/plain": [
              "32.541666666666664"
            ]
          },
          "metadata": {},
          "execution_count": 9
        }
      ]
    },
    {
      "cell_type": "code",
      "source": [
        "45/7"
      ],
      "metadata": {
        "colab": {
          "base_uri": "https://localhost:8080/"
        },
        "id": "WyKbr-CtxA_V",
        "outputId": "e2fec177-95f5-4de1-eabd-862b94ef2bfb"
      },
      "execution_count": null,
      "outputs": [
        {
          "output_type": "execute_result",
          "data": {
            "text/plain": [
              "6.428571428571429"
            ]
          },
          "metadata": {},
          "execution_count": 10
        }
      ]
    },
    {
      "cell_type": "code",
      "source": [
        "9.8*9.8"
      ],
      "metadata": {
        "colab": {
          "base_uri": "https://localhost:8080/"
        },
        "id": "wm9xicE4w9Gr",
        "outputId": "52431174-07d1-4777-8ca1-a577e75c1587"
      },
      "execution_count": null,
      "outputs": [
        {
          "output_type": "execute_result",
          "data": {
            "text/plain": [
              "96.04000000000002"
            ]
          },
          "metadata": {},
          "execution_count": 11
        }
      ]
    },
    {
      "cell_type": "code",
      "source": [
        "6.9*10"
      ],
      "metadata": {
        "colab": {
          "base_uri": "https://localhost:8080/"
        },
        "id": "TECg3XOnw6E7",
        "outputId": "c19f7221-2ea3-489a-a076-af41965082c2"
      },
      "execution_count": null,
      "outputs": [
        {
          "output_type": "execute_result",
          "data": {
            "text/plain": [
              "69.0"
            ]
          },
          "metadata": {},
          "execution_count": 12
        }
      ]
    },
    {
      "cell_type": "code",
      "source": [
        "46-19.8"
      ],
      "metadata": {
        "colab": {
          "base_uri": "https://localhost:8080/"
        },
        "id": "sdnLNVoiw1No",
        "outputId": "7bf4d7cb-1df0-4a25-e894-339cbe97a272"
      },
      "execution_count": null,
      "outputs": [
        {
          "output_type": "execute_result",
          "data": {
            "text/plain": [
              "26.2"
            ]
          },
          "metadata": {},
          "execution_count": 13
        }
      ]
    },
    {
      "cell_type": "code",
      "source": [
        "6*7"
      ],
      "metadata": {
        "id": "ochhizJ-w1TP"
      },
      "execution_count": null,
      "outputs": []
    },
    {
      "cell_type": "code",
      "source": [
        "24.7-4.5"
      ],
      "metadata": {
        "colab": {
          "base_uri": "https://localhost:8080/"
        },
        "id": "j3r33ju2wxPK",
        "outputId": "bbc4d658-4850-4c1a-bfd0-db0cf1a3e209"
      },
      "execution_count": null,
      "outputs": [
        {
          "output_type": "execute_result",
          "data": {
            "text/plain": [
              "20.2"
            ]
          },
          "metadata": {},
          "execution_count": 16
        }
      ]
    },
    {
      "cell_type": "code",
      "source": [
        "28/5"
      ],
      "metadata": {
        "colab": {
          "base_uri": "https://localhost:8080/"
        },
        "id": "vuwDQStiweoZ",
        "outputId": "690a6915-bb62-4401-a349-8e664ac982d4"
      },
      "execution_count": null,
      "outputs": [
        {
          "output_type": "execute_result",
          "data": {
            "text/plain": [
              "5.6"
            ]
          },
          "metadata": {},
          "execution_count": 15
        }
      ]
    },
    {
      "cell_type": "markdown",
      "source": [
        "**Activity 4**"
      ],
      "metadata": {
        "id": "cWCde6zexJxA"
      }
    },
    {
      "cell_type": "code",
      "source": [
        "67//6"
      ],
      "metadata": {
        "colab": {
          "base_uri": "https://localhost:8080/"
        },
        "id": "JqLFc1dfxPbU",
        "outputId": "f7d6212b-cbff-442d-e9f6-024af2c52220"
      },
      "execution_count": null,
      "outputs": [
        {
          "output_type": "execute_result",
          "data": {
            "text/plain": [
              "11"
            ]
          },
          "metadata": {},
          "execution_count": 21
        }
      ]
    },
    {
      "cell_type": "code",
      "source": [
        "28%4"
      ],
      "metadata": {
        "colab": {
          "base_uri": "https://localhost:8080/"
        },
        "id": "YQNMuUejxpcn",
        "outputId": "179aad58-98b2-44bd-b472-c08e3df8d567"
      },
      "execution_count": null,
      "outputs": [
        {
          "output_type": "execute_result",
          "data": {
            "text/plain": [
              "0"
            ]
          },
          "metadata": {},
          "execution_count": 22
        }
      ]
    },
    {
      "cell_type": "code",
      "source": [
        "25%4"
      ],
      "metadata": {
        "colab": {
          "base_uri": "https://localhost:8080/"
        },
        "id": "5yo61BIKxfXp",
        "outputId": "c197473c-f961-4581-a5c1-343f1ef0bb3c"
      },
      "execution_count": null,
      "outputs": [
        {
          "output_type": "execute_result",
          "data": {
            "text/plain": [
              "1"
            ]
          },
          "metadata": {},
          "execution_count": 23
        }
      ]
    },
    {
      "cell_type": "code",
      "source": [
        "int (56/5)"
      ],
      "metadata": {
        "colab": {
          "base_uri": "https://localhost:8080/"
        },
        "id": "FUM5HcW7xdeH",
        "outputId": "82c658f1-09d8-4f6e-9cfe-ac76fb1747a5"
      },
      "execution_count": null,
      "outputs": [
        {
          "output_type": "execute_result",
          "data": {
            "text/plain": [
              "11"
            ]
          },
          "metadata": {},
          "execution_count": 24
        }
      ]
    },
    {
      "cell_type": "code",
      "source": [
        "int (67/6)"
      ],
      "metadata": {
        "colab": {
          "base_uri": "https://localhost:8080/"
        },
        "id": "GJjXBj6IxbVH",
        "outputId": "475bd39a-2d7c-4590-d197-dc149e9a9968"
      },
      "execution_count": null,
      "outputs": [
        {
          "output_type": "execute_result",
          "data": {
            "text/plain": [
              "11"
            ]
          },
          "metadata": {},
          "execution_count": 25
        }
      ]
    },
    {
      "cell_type": "code",
      "source": [
        "56//5"
      ],
      "metadata": {
        "colab": {
          "base_uri": "https://localhost:8080/"
        },
        "id": "mfzRR6XcxZS8",
        "outputId": "77b7e684-11f3-41e6-cc63-e44a25555154"
      },
      "execution_count": null,
      "outputs": [
        {
          "output_type": "execute_result",
          "data": {
            "text/plain": [
              "11"
            ]
          },
          "metadata": {},
          "execution_count": 18
        }
      ]
    },
    {
      "cell_type": "markdown",
      "source": [
        "**Activity 5**"
      ],
      "metadata": {
        "id": "dFKVw7hmxtw0"
      }
    },
    {
      "cell_type": "code",
      "source": [
        "4**3"
      ],
      "metadata": {
        "colab": {
          "base_uri": "https://localhost:8080/"
        },
        "id": "GaQ2p268xxSU",
        "outputId": "f25b31e4-e866-4c78-c5ea-bec8d9894e6c"
      },
      "execution_count": null,
      "outputs": [
        {
          "output_type": "execute_result",
          "data": {
            "text/plain": [
              "64"
            ]
          },
          "metadata": {},
          "execution_count": 27
        }
      ]
    },
    {
      "cell_type": "code",
      "source": [
        "4**1000"
      ],
      "metadata": {
        "colab": {
          "base_uri": "https://localhost:8080/"
        },
        "id": "kZzHyDq7yA14",
        "outputId": "6b8764de-1548-4536-e9ba-e334b17ad52d"
      },
      "execution_count": null,
      "outputs": [
        {
          "output_type": "execute_result",
          "data": {
            "text/plain": [
              "114813069527425452423283320117768198402231770208869520047764273682576626139237031385665948631650626991844596463898746277344711896086305533142593135616665318539129989145312280000688779148240044871428926990063486244781615463646388363947317026040466353970904996558162398808944629605623311649536164221970332681344168908984458505602379484807914058900934776500429002716706625830522008132236281291761267883317206598995396418127021779858404042159853183251540889433902091920554957783589672039160081957216630582755380425583726015528348786419432054508915275783882625175435528800822842770817965453762184851149029376"
            ]
          },
          "metadata": {},
          "execution_count": 28
        }
      ]
    },
    {
      "cell_type": "code",
      "source": [
        "4**150"
      ],
      "metadata": {
        "colab": {
          "base_uri": "https://localhost:8080/"
        },
        "id": "7LHiL5Xbx_FZ",
        "outputId": "564d1d33-d635-4468-d191-f4e027b3ab97"
      },
      "execution_count": null,
      "outputs": [
        {
          "output_type": "execute_result",
          "data": {
            "text/plain": [
              "2037035976334486086268445688409378161051468393665936250636140449354381299763336706183397376"
            ]
          },
          "metadata": {},
          "execution_count": 29
        }
      ]
    },
    {
      "cell_type": "code",
      "source": [
        "5**20"
      ],
      "metadata": {
        "colab": {
          "base_uri": "https://localhost:8080/"
        },
        "id": "i0CtBcDRx5sz",
        "outputId": "411a54d7-7631-4826-c099-e7559c0c3cbd"
      },
      "execution_count": null,
      "outputs": [
        {
          "output_type": "execute_result",
          "data": {
            "text/plain": [
              "95367431640625"
            ]
          },
          "metadata": {},
          "execution_count": 31
        }
      ]
    },
    {
      "cell_type": "code",
      "source": [
        "7**23"
      ],
      "metadata": {
        "colab": {
          "base_uri": "https://localhost:8080/"
        },
        "id": "Kvn-Ypq-x7OD",
        "outputId": "1ad24c7f-7603-4309-bd8e-e9c2cf145eb5"
      },
      "execution_count": null,
      "outputs": [
        {
          "output_type": "execute_result",
          "data": {
            "text/plain": [
              "27368747340080916343"
            ]
          },
          "metadata": {},
          "execution_count": 32
        }
      ]
    },
    {
      "cell_type": "markdown",
      "source": [
        "**Activity 6**"
      ],
      "metadata": {
        "id": "em616hS8yGL-"
      }
    },
    {
      "cell_type": "code",
      "source": [
        "2+3*6"
      ],
      "metadata": {
        "colab": {
          "base_uri": "https://localhost:8080/"
        },
        "id": "DBvoH2IyyJle",
        "outputId": "58940110-1097-46f7-cad1-1fda4e7e3aad"
      },
      "execution_count": null,
      "outputs": [
        {
          "output_type": "execute_result",
          "data": {
            "text/plain": [
              "20"
            ]
          },
          "metadata": {},
          "execution_count": 33
        }
      ]
    },
    {
      "cell_type": "code",
      "source": [
        "42 + 5 ** 2"
      ],
      "metadata": {
        "id": "o8XEcyCLygI8"
      },
      "execution_count": null,
      "outputs": []
    },
    {
      "cell_type": "code",
      "source": [
        "5+7"
      ],
      "metadata": {
        "colab": {
          "base_uri": "https://localhost:8080/"
        },
        "id": "_T12Y-4myegM",
        "outputId": "284f62f5-1dab-4420-8050-2ec4a697bfba"
      },
      "execution_count": null,
      "outputs": [
        {
          "output_type": "execute_result",
          "data": {
            "text/plain": [
              "12"
            ]
          },
          "metadata": {},
          "execution_count": 35
        }
      ]
    },
    {
      "cell_type": "code",
      "source": [
        "(5-1)*((7+1)/(3-1))"
      ],
      "metadata": {
        "colab": {
          "base_uri": "https://localhost:8080/"
        },
        "id": "hnILgNYSyc-h",
        "outputId": "09f17dbe-be7b-4fa8-d9dc-946c32d731c0"
      },
      "execution_count": null,
      "outputs": [
        {
          "output_type": "execute_result",
          "data": {
            "text/plain": [
              "16.0"
            ]
          },
          "metadata": {},
          "execution_count": 36
        }
      ]
    },
    {
      "cell_type": "code",
      "source": [
        "2 + 2"
      ],
      "metadata": {
        "colab": {
          "base_uri": "https://localhost:8080/"
        },
        "id": "U0t3M28oyZYS",
        "outputId": "80e3bc5a-58c6-40cb-cdd3-c06ccaa83fd6"
      },
      "execution_count": null,
      "outputs": [
        {
          "output_type": "execute_result",
          "data": {
            "text/plain": [
              "4"
            ]
          },
          "metadata": {},
          "execution_count": 37
        }
      ]
    },
    {
      "cell_type": "code",
      "source": [
        "(2+3)*6"
      ],
      "metadata": {
        "colab": {
          "base_uri": "https://localhost:8080/"
        },
        "id": "LgcLcWPYyVEN",
        "outputId": "6f9595de-388e-4971-982f-cbf1da101c6f"
      },
      "execution_count": null,
      "outputs": [
        {
          "output_type": "execute_result",
          "data": {
            "text/plain": [
              "30"
            ]
          },
          "metadata": {},
          "execution_count": 38
        }
      ]
    },
    {
      "cell_type": "code",
      "source": [
        "48565878 * 578453"
      ],
      "metadata": {
        "colab": {
          "base_uri": "https://localhost:8080/"
        },
        "id": "9zTqD-cIyWwS",
        "outputId": "0eceb5dd-6b99-43fe-9fe6-9d2b4251fd7c"
      },
      "execution_count": null,
      "outputs": [
        {
          "output_type": "execute_result",
          "data": {
            "text/plain": [
              "28093077826734"
            ]
          },
          "metadata": {},
          "execution_count": 39
        }
      ]
    },
    {
      "cell_type": "markdown",
      "source": [
        "**Activity 7**"
      ],
      "metadata": {
        "id": "RuWdR6mNylmJ"
      }
    },
    {
      "cell_type": "code",
      "source": [
        "x = \"Farwa\"\n",
        "print(x)\n"
      ],
      "metadata": {
        "colab": {
          "base_uri": "https://localhost:8080/"
        },
        "id": "eY7A0aQlyv63",
        "outputId": "ce30f55a-fe3e-4772-cb59-7e6752cd9cac"
      },
      "execution_count": null,
      "outputs": [
        {
          "output_type": "stream",
          "name": "stdout",
          "text": [
            "Farwa\n"
          ]
        }
      ]
    },
    {
      "cell_type": "code",
      "source": [
        "num = \"My Lucky number is %d, what is yours?\" %8\n",
        "print(num)"
      ],
      "metadata": {
        "colab": {
          "base_uri": "https://localhost:8080/"
        },
        "id": "vFQuzTvOyyC_",
        "outputId": "b646a74a-b9b8-4622-9d37-4162ac5f57bc"
      },
      "execution_count": null,
      "outputs": [
        {
          "output_type": "stream",
          "name": "stdout",
          "text": [
            "My Lucky number is 8, what is yours?\n"
          ]
        }
      ]
    },
    {
      "cell_type": "code",
      "source": [
        "num1 = \"My lucky number is \" + str(8) + \", what is yours?\"\n",
        "print(num1)"
      ],
      "metadata": {
        "colab": {
          "base_uri": "https://localhost:8080/"
        },
        "id": "2YYL-hJny1ZQ",
        "outputId": "430d4c8a-419b-4031-d50d-c30989420c5d"
      },
      "execution_count": null,
      "outputs": [
        {
          "output_type": "stream",
          "name": "stdout",
          "text": [
            "My lucky number is 8, what is yours?\n"
          ]
        }
      ]
    },
    {
      "cell_type": "markdown",
      "source": [
        "**Activity 8**"
      ],
      "metadata": {
        "id": "O8F5z1hJy-JR"
      }
    },
    {
      "cell_type": "code",
      "source": [
        "age = input('what is your age? ')\n",
        "print ('Your age is: ' + str(age))"
      ],
      "metadata": {
        "colab": {
          "base_uri": "https://localhost:8080/"
        },
        "id": "ZyVOr1h1y5vl",
        "outputId": "1aaea4e1-0941-4a82-d991-4807a42192cb"
      },
      "execution_count": null,
      "outputs": [
        {
          "output_type": "stream",
          "name": "stdout",
          "text": [
            "what is your age? 21\n",
            "Your age is: 21\n"
          ]
        }
      ]
    },
    {
      "cell_type": "code",
      "source": [
        "Favsub = input(\"which is your Favourite subject? \")\n",
        "print(\"Your Favourite subject is: \" + Favsub)"
      ],
      "metadata": {
        "colab": {
          "base_uri": "https://localhost:8080/"
        },
        "id": "R6gIMEaAzFBN",
        "outputId": "97c83c51-c1f1-41cd-faff-95b323713648"
      },
      "execution_count": null,
      "outputs": [
        {
          "output_type": "stream",
          "name": "stdout",
          "text": [
            "which is your Favourite subject? Math\n",
            "Your Favourite subject is: Math\n"
          ]
        }
      ]
    },
    {
      "cell_type": "code",
      "source": [
        "job = input(\"what is your job? \")\n",
        "print(\"Your job is: \" + job)\n"
      ],
      "metadata": {
        "colab": {
          "base_uri": "https://localhost:8080/"
        },
        "id": "NuUM3asGzM62",
        "outputId": "311c2928-1890-4754-de7d-bce27a58615f"
      },
      "execution_count": null,
      "outputs": [
        {
          "output_type": "stream",
          "name": "stdout",
          "text": [
            "what is your job? IT Manager\n",
            "Your job is: IT Manager\n"
          ]
        }
      ]
    }
  ]
}
