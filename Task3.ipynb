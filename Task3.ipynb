{
  "nbformat": 4,
  "nbformat_minor": 0,
  "metadata": {
    "colab": {
      "provenance": [],
      "authorship_tag": "ABX9TyO+U6kx6Iu8JBSSSsmS40HJ",
      "include_colab_link": true
    },
    "kernelspec": {
      "name": "python3",
      "display_name": "Python 3"
    },
    "language_info": {
      "name": "python"
    }
  },
  "cells": [
    {
      "cell_type": "markdown",
      "metadata": {
        "id": "view-in-github",
        "colab_type": "text"
      },
      "source": [
        "<a href=\"https://colab.research.google.com/github/Farwakhan971/A.I-Lab/blob/main/LabTask3.ipynb\" target=\"_parent\"><img src=\"https://colab.research.google.com/assets/colab-badge.svg\" alt=\"Open In Colab\"/></a>"
      ]
    },
    {
      "cell_type": "markdown",
      "source": [
        "## Name:- Farwa khan\n",
        "## Reg No:- FA20-BSE-043"
      ],
      "metadata": {
        "id": "Gi_x82i-KBL8"
      }
    },
    {
      "cell_type": "markdown",
      "source": [
        "**Activity 1**\n",
        "\n",
        "*Use loops to accept 5 values from user and store them in a list. Display all the values (objects) of the list*\n",
        "\n"
      ],
      "metadata": {
        "id": "cURdFACSAdaa"
      }
    },
    {
      "cell_type": "code",
      "execution_count": null,
      "metadata": {
        "colab": {
          "base_uri": "https://localhost:8080/"
        },
        "id": "_mUWUg4xuNcs",
        "outputId": "d8f60514-2066-44f0-be6d-9c675ab77e0e"
      },
      "outputs": [
        {
          "output_type": "stream",
          "name": "stdout",
          "text": [
            " Enter the value 5\n",
            " Enter the value 4\n",
            " Enter the value 2\n",
            " Enter the value 1\n",
            " Enter the value 6\n",
            " The given list is \n",
            "['5', '4', '2', '1', '6']\n"
          ]
        }
      ],
      "source": [
        "mylist = []\n",
        "for i in range(5):\n",
        "  val=input(\" Enter the value \")\n",
        "  mylist.append(val)\n",
        "\n",
        "print(\" The given list is \")\n",
        "print(mylist)"
      ]
    },
    {
      "cell_type": "markdown",
      "source": [
        "**Activity 2**\n",
        "\n",
        "*Repeat the above code by accepting 5 integer values from user. Store these values in a list and display the sum of given values*"
      ],
      "metadata": {
        "id": "_hG8JLZdAsvl"
      }
    },
    {
      "cell_type": "code",
      "source": [
        "list1 = []\n",
        "for i in range(5):\n",
        "  val = int(input(\" Enter the val \"))\n",
        "  list1.append(val)\n",
        "\n",
        "sum = 0\n",
        "for val in list1:\n",
        "  sum=sum+val\n",
        "print(\"The sum of values is \", sum)\n"
      ],
      "metadata": {
        "colab": {
          "base_uri": "https://localhost:8080/"
        },
        "id": "TBqoGPGSyhph",
        "outputId": "09eff21d-d607-475e-baf2-e04e18610497"
      },
      "execution_count": null,
      "outputs": [
        {
          "output_type": "stream",
          "name": "stdout",
          "text": [
            " Enter the val 1\n",
            " Enter the val 2\n",
            " Enter the val 3\n",
            " Enter the val 4\n",
            " Enter the val 5\n",
            "The sum of values is  15\n"
          ]
        }
      ]
    },
    {
      "cell_type": "markdown",
      "source": [
        "**Activity 3**\n",
        "\n",
        "*Write a Python code to accept a list from user and find a required element in it.*"
      ],
      "metadata": {
        "id": "uwgNTxa-FUIA"
      }
    },
    {
      "cell_type": "code",
      "source": [
        "lis = []\n",
        "for i in range(5):\n",
        "  val = int(input(\" Enter the val \"))\n",
        "  lis.append(val)\n",
        "print(\" The given list is \")\n",
        "print(lis)\n",
        "num = int(input(\" Enter the number which you want to find\"))\n",
        "\n",
        "for i in lis:\n",
        "  if i==num:\n",
        "      result=lis.index(i)\n",
        "print(\"The entered value is found at\", result)\n",
        "print(\"The value is \", num)\n"
      ],
      "metadata": {
        "colab": {
          "base_uri": "https://localhost:8080/"
        },
        "id": "FFzBCRJ_06y_",
        "outputId": "b9464f99-d582-401c-d781-e768309c2691"
      },
      "execution_count": null,
      "outputs": [
        {
          "output_type": "stream",
          "name": "stdout",
          "text": [
            " Enter the val 12\n",
            " Enter the val 4\n",
            " Enter the val 67\n",
            " Enter the val 4\n",
            " Enter the val 34\n",
            " The given list is \n",
            "[12, 4, 67, 4, 34]\n",
            " Enter the number which you want to find67\n",
            "The entered value is found at 2\n",
            "The value is  67\n"
          ]
        }
      ]
    },
    {
      "cell_type": "markdown",
      "source": [
        "**Activity 4**\n",
        "\n",
        "\n",
        "*Accept 5 integer values from user. Store these values in a list and display the list in ascending order.*"
      ],
      "metadata": {
        "id": "uaQM5O4SHLfs"
      }
    },
    {
      "cell_type": "code",
      "source": [],
      "metadata": {
        "id": "oBoeoM-BHKoe"
      },
      "execution_count": null,
      "outputs": []
    },
    {
      "cell_type": "code",
      "source": [
        "list3 = []\n",
        "for i in range(5):\n",
        "  val = int(input(\" Enter the val \"))\n",
        "  list3.append(val)\n",
        "\n",
        "list3.sort()\n",
        "print(list3)"
      ],
      "metadata": {
        "colab": {
          "base_uri": "https://localhost:8080/"
        },
        "id": "sLkxFPjb31jo",
        "outputId": "0b667659-2a7e-49f8-a6b2-b81f5b1b26bf"
      },
      "execution_count": null,
      "outputs": [
        {
          "output_type": "stream",
          "name": "stdout",
          "text": [
            " Enter the val 1\n",
            " Enter the val 2\n",
            " Enter the val 7\n",
            " Enter the val 9\n",
            " Enter the val 10\n",
            "[1, 2, 7, 9, 10]\n"
          ]
        }
      ]
    },
    {
      "cell_type": "markdown",
      "source": [
        "**Activity 5**\n",
        "\n",
        "\n",
        "*Accept 5 integer values from user. Store these values in a list and display the maximum number in a list.*"
      ],
      "metadata": {
        "id": "jsXbL1OPIdHo"
      }
    },
    {
      "cell_type": "code",
      "source": [
        "list3 = []\n",
        "for i in range(5):\n",
        "  val = int(input(\" Enter the val \"))\n",
        "  list3.append(val)\n",
        "\n",
        "n=max(list3)\n",
        "print(n)"
      ],
      "metadata": {
        "colab": {
          "base_uri": "https://localhost:8080/"
        },
        "id": "r-4MVOhj5H4M",
        "outputId": "b5d2086a-bc2e-4112-caf2-1ad0421c2070"
      },
      "execution_count": null,
      "outputs": [
        {
          "output_type": "stream",
          "name": "stdout",
          "text": [
            " Enter the val 1\n",
            " Enter the val 10\n",
            " Enter the val 21\n",
            " Enter the val 45\n",
            " Enter the val 21\n",
            "45\n"
          ]
        }
      ]
    },
    {
      "cell_type": "markdown",
      "source": [
        "**Activity 6**\n",
        "\n",
        "*Accept two lists from user and display their join.*"
      ],
      "metadata": {
        "id": "_DuZrecAIrdj"
      }
    },
    {
      "cell_type": "code",
      "source": [
        "list1 = []\n",
        "for i in range(5):\n",
        "  val = int(input(\" Enter the values \"))\n",
        "  list1.append(val)\n",
        "\n",
        "list2 = []\n",
        "for i in range(5):\n",
        "  val = int(input(\" Enter the values \"))\n",
        "  list2.append(val)\n",
        "\n",
        "list3 = list1+list2\n",
        "print(list3)\n",
        "\n"
      ],
      "metadata": {
        "colab": {
          "base_uri": "https://localhost:8080/"
        },
        "id": "_gov0IRKx1cL",
        "outputId": "c351622d-650f-4b13-e640-e2319e37caf2"
      },
      "execution_count": null,
      "outputs": [
        {
          "output_type": "stream",
          "name": "stdout",
          "text": [
            " Enter the values 1\n",
            " Enter the values 3\n",
            " Enter the values 5\n",
            " Enter the values 10\n",
            " Enter the values 12\n",
            " Enter the values 3\n",
            " Enter the values 1\n",
            " Enter the values 9\n",
            " Enter the values 56\n",
            " Enter the values 34\n",
            "[1, 3, 5, 10, 12, 3, 1, 9, 56, 34]\n"
          ]
        }
      ]
    },
    {
      "cell_type": "markdown",
      "source": [
        "**Activity 7**\n",
        "\n",
        "*Write a function called say_hello that takes in a person’s name as a parameter. The function should print a greeting message with the person’s name. Then call the function three times with three different names.*"
      ],
      "metadata": {
        "id": "Oa54vqVkI2Pm"
      }
    },
    {
      "cell_type": "code",
      "source": [
        "def say_hello(n):\n",
        "    print(\" Hello \", n)\n",
        "for i in range(3):\n",
        "  val = input(\" Enter the names \")\n",
        "  say_hello(val)"
      ],
      "metadata": {
        "colab": {
          "base_uri": "https://localhost:8080/"
        },
        "id": "qWk5O_rI_h4S",
        "outputId": "0de5e897-1e89-464f-a04c-64eedc1e254d"
      },
      "execution_count": null,
      "outputs": [
        {
          "output_type": "stream",
          "name": "stdout",
          "text": [
            " Enter the names Farwa\n",
            " Hello  Farwa\n",
            " Enter the names Nida\n",
            " Hello  Nida\n",
            " Enter the names Fatima\n",
            " Hello  Fatima\n"
          ]
        }
      ]
    },
    {
      "cell_type": "markdown",
      "source": [
        "**Activity 8**\n",
        "\n",
        "*A palindrome is a string which is same read forward or backwards. For example: “dad” is the same in forward or reverse direction. Another example is “aibohphobia” which literally means, an irritable fear of palindromes.*\n",
        "\n",
        "\n",
        "*Write a function in python that receives a string and returns True if that string is a palindrome and False otherwise. Remember that difference between upper and lower case characters are ignored during this determination.* "
      ],
      "metadata": {
        "id": "9cYG2l8TJtdO"
      }
    },
    {
      "cell_type": "code",
      "source": [
        "def ispalindrome(word):\n",
        "  temp=word[::-1]\n",
        "  if(temp.capitalize()==word.capitalize()):\n",
        "    return True\n",
        "  else:\n",
        "    return False\n",
        "val = input(\"Enter some string\")\n",
        "print(ispalindrome(val))\n"
      ],
      "metadata": {
        "colab": {
          "base_uri": "https://localhost:8080/"
        },
        "id": "XwgrMRyEJE7v",
        "outputId": "fa3164bc-3e3f-41d8-db2a-4563101cf6ea"
      },
      "execution_count": null,
      "outputs": [
        {
          "output_type": "stream",
          "name": "stdout",
          "text": [
            "Enter some stringdad\n",
            "True\n"
          ]
        }
      ]
    }
  ]
}
