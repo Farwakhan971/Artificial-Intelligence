{
  "nbformat": 4,
  "nbformat_minor": 0,
  "metadata": {
    "colab": {
      "provenance": [],
      "authorship_tag": "ABX9TyMyQxBBzrZfkrKU0gpN008D",
      "include_colab_link": true
    },
    "kernelspec": {
      "name": "python3",
      "display_name": "Python 3"
    },
    "language_info": {
      "name": "python"
    }
  },
  "cells": [
    {
      "cell_type": "markdown",
      "metadata": {
        "id": "view-in-github",
        "colab_type": "text"
      },
      "source": [
        "<a href=\"https://colab.research.google.com/github/Farwakhan971/A.I-Lab/blob/main/LabTask4.ipynb\" target=\"_parent\"><img src=\"https://colab.research.google.com/assets/colab-badge.svg\" alt=\"Open In Colab\"/></a>"
      ]
    },
    {
      "cell_type": "markdown",
      "source": [
        "Farwa Khan\n",
        "\n",
        "FA20-BSE-043\n"
      ],
      "metadata": {
        "id": "KFteeFCohX1L"
      }
    },
    {
      "cell_type": "markdown",
      "source": [
        "### ***Multiplication of two matrices *** \n"
      ],
      "metadata": {
        "id": "YbV-Va5bhH0p"
      }
    },
    {
      "cell_type": "code",
      "execution_count": 1,
      "metadata": {
        "colab": {
          "base_uri": "https://localhost:8080/"
        },
        "id": "k0VWsC_Ng_Eh",
        "outputId": "d6df55c6-7ffe-4543-a6df-d5e23182b4bc"
      },
      "outputs": [
        {
          "output_type": "stream",
          "name": "stdout",
          "text": [
            "[[1, 2, 3], [4, 5, 6], [7, 8, 9]]\n"
          ]
        }
      ],
      "source": [
        "a = [[1,0,0],[0,1,0],[0,0,1]]\n",
        "b = [[1,2,3],[4,5,6],[7,8,9]]\n",
        "c = []\n",
        "for indrow in range(3):\n",
        "  c.append([])\n",
        "  for indcol in range(3):\n",
        "    c[indrow].append(0)\n",
        "    for indaux in range(3):\n",
        "      c[indrow][indcol]=c[indrow][indcol]+a[indaux][indrow]*b[indaux][indcol]\n",
        "print(c)"
      ]
    },
    {
      "cell_type": "markdown",
      "source": [
        "### ***Finding perimeter of polygon*** \n"
      ],
      "metadata": {
        "id": "tt1H7kSFhOs6"
      }
    },
    {
      "cell_type": "code",
      "source": [
        "def perimeter(listing):\n",
        "  leng = len(listing)\n",
        "  perimeter=0\n",
        "  for i in range(0,leng-1):\n",
        "    dist = (((listing[i][0]-listing[i+1][0])**2)+((listing[i][1]-listing[i+1][1])**2))**0.5\n",
        "    perimeter = perimeter+dist\n",
        "    perimeter = perimeter+(((listing[0][0]-listing[leng-1][0])**2)+((listing[0][1]-listing[leng-1][1])**2))**0.5\n",
        "    return perimeter\n",
        "l1 = [(1,3),(2,7),(3,9),(-1,8)]\n",
        "print(perimeter(l1))"
      ],
      "metadata": {
        "colab": {
          "base_uri": "https://localhost:8080/"
        },
        "id": "2efKYtWIhAxH",
        "outputId": "3ee440b9-5ee8-4fbb-eee8-0510d08d21f2"
      },
      "execution_count": 2,
      "outputs": [
        {
          "output_type": "stream",
          "name": "stdout",
          "text": [
            "9.508270432752164\n"
          ]
        }
      ]
    }
  ]
}
