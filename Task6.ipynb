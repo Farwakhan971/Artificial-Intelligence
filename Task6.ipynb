{
  "nbformat": 4,
  "nbformat_minor": 0,
  "metadata": {
    "colab": {
      "provenance": [],
      "authorship_tag": "ABX9TyMPwF2ZewjgjBweCu0MHiQU",
      "include_colab_link": true
    },
    "kernelspec": {
      "name": "python3",
      "display_name": "Python 3"
    },
    "language_info": {
      "name": "python"
    }
  },
  "cells": [
    {
      "cell_type": "markdown",
      "metadata": {
        "id": "view-in-github",
        "colab_type": "text"
      },
      "source": [
        "<a href=\"https://colab.research.google.com/github/Farwakhan971/A.I-Lab/blob/main/LabTask6.ipynb\" target=\"_parent\"><img src=\"https://colab.research.google.com/assets/colab-badge.svg\" alt=\"Open In Colab\"/></a>"
      ]
    },
    {
      "cell_type": "markdown",
      "source": [
        "### Farwa khan\n",
        "\n",
        "### FA20-BSE-043"
      ],
      "metadata": {
        "id": "0YwRX1lvmTu1"
      }
    },
    {
      "cell_type": "markdown",
      "source": [
        "Imagine going from Arad to Bucharest in the following map. Implement a BFS to find the corresponding path."
      ],
      "metadata": {
        "id": "nW4Ys9MnmRCP"
      }
    },
    {
      "cell_type": "code",
      "execution_count": null,
      "metadata": {
        "id": "XvkNwhF2mH1S"
      },
      "outputs": [],
      "source": [
        "from collections import deque\n",
        "\n",
        "class Graph:\n",
        "    def __init__(self):\n",
        "        self.graph = {}\n",
        "    def add_edge(self, node, vertex):\n",
        "        if node not in self.graph:\n",
        "            self.graph[node] = []\n",
        "        if vertex not in self.graph:\n",
        "            self.graph[vertex] = []\n",
        "        self.graph[node].append(vertex)\n",
        "        self.graph[vertex].append(node)\n",
        "\n",
        "    def bfs(self, start, end):\n",
        "        queue = deque([(start,[start])])\n",
        "        visited = set([start])\n",
        "        while queue:\n",
        "            node, path = queue.popleft()\n",
        "            if node == end:\n",
        "                return path\n",
        "            for neighbor in self.graph[node]:\n",
        "                if neighbor not in visited:\n",
        "                    queue.append((neighbor, path + [neighbor]))\n",
        "                    visited.add(neighbor)\n",
        "        return None\n",
        "graph = Graph()\n",
        "graph.add_edge('Arad', 'Zerind')\n",
        "graph.add_edge('Arad', 'Sibiu')\n",
        "graph.add_edge('Arad', 'Timisoara')\n",
        "graph.add_edge('Zerind', 'Oradea')\n",
        "graph.add_edge('Oradea', 'Sibiu')\n",
        "graph.add_edge('Timisoara', 'Lugoj')\n",
        "graph.add_edge('Lugoj', 'Mehadia')\n",
        "graph.add_edge('Mehadia', 'Drobeta')\n",
        "graph.add_edge('Drobeta', 'Craiova')\n",
        "graph.add_edge('Craiova', 'Pitesti')\n",
        "graph.add_edge('Craiova', 'Rimnicu Vilcea')\n",
        "graph.add_edge('Sibiu', 'Fagaras')\n",
        "graph.add_edge('Sibiu', 'Rimnicu Vilcea')\n",
        "graph.add_edge('Fagaras', 'Bucharest')\n",
        "graph.add_edge('Rimnicu Vilcea', 'Pitesti')\n",
        "graph.add_edge('Pitesti', 'Bucharest')\n",
        "graph.add_edge('Bucharest', 'Giurgiu')\n",
        "graph.add_edge('Bucharest', 'Urziceni')\n",
        "graph.add_edge('Urziceni', 'Vaslui')\n",
        "graph.add_edge('Urziceni', 'Hirsova')\n",
        "graph.add_edge('Vaslui', 'Iasi')\n",
        "graph.add_edge('Iasi', 'Neamt')\n",
        "graph.add_edge('Hirsova', 'Eforie')\n",
        "\n",
        "path = graph.bfs('Arad', 'Bucharest')\n",
        "print(path)"
      ]
    },
    {
      "cell_type": "markdown",
      "source": [
        "In this implementation, I define a Graph class that stores the graph as an adjacency list. The add_edge method is used to add edges to the graph. The bfs method implements the BFS algorithm to find the shortest path from start to end.Use a deque data structure from the collections module to implement the queue for the BFS algorithm."
      ],
      "metadata": {
        "id": "lverWTeUmmXP"
      }
    },
    {
      "cell_type": "markdown",
      "source": [
        "Consider a maze as shown below. Each empty tile represents a separate node in the graph. There are maximum of four possible actions i.e., to move up, down, left or right on any given tile/node. Using BFS, find out how to get out of the maze if you’re in the start position depicted below"
      ],
      "metadata": {
        "id": "IGvNqEL0mvoV"
      }
    },
    {
      "cell_type": "code",
      "source": [
        "from collections import deque\n",
        "\n",
        "def bfs(maze, start, destination):\n",
        "    queue = deque([(start, [start])])\n",
        "    visited = set([start])\n",
        "    \n",
        "    while queue:\n",
        "        current, path = queue.popleft()\n",
        "        if current == destination:\n",
        "            return path\n",
        "        for move in [(0, -1), (0, 1), (-1, 0), (1, 0)]:  \n",
        "            new_position = (current[0] + move[0], current[1] + move[1])\n",
        "            if is_valid_move(maze, new_position) and new_position not in visited:\n",
        "                visited.add(new_position)\n",
        "                queue.append((new_position, path + [new_position]))\n",
        "                \n",
        "    return \"No path to the exit.\"\n",
        "\n",
        "def is_valid_move(maze, position):\n",
        "    if position[0] < 0 or position[0] >= len(maze) or position[1] < 0 or position[1] >= len(maze[0]):\n",
        "        return False  \n",
        "    if maze[position[0]][position[1]] == 1:\n",
        "        return False \n",
        "    return True\n",
        "\n",
        "maze = [[1,1,1,1,1,0,1,1],[1,0,0,0,0,0,0,1],[1,0,1,1,1,1,0,1],[1,0,1,0,1,0,0,1],[1,0,1,0,1,1,0,1],[1,0,1,0,1,0,0,1],[1,0,0,0,0,0,0,1],[1,1,1,1,1,1,1,1]]\n",
        "\n",
        "start = (3, 3)\n",
        "destination = (0, 5)\n",
        "\n",
        "path = bfs(maze, start, destination)\n",
        "print(path)  \n"
      ],
      "metadata": {
        "id": "MdVXNyPfmJnW"
      },
      "execution_count": null,
      "outputs": []
    },
    {
      "cell_type": "markdown",
      "source": [
        "In this implementation,the maze is represented by a 6x6 2D array, where 0 represents an empty tile and 1 represents an obstacle. The starting position is (0, 0) and the exit position is (5, 5). The bfs function returns the path from the start position to the exit position as a list of tuples representing the positions in the maze."
      ],
      "metadata": {
        "id": "dHpEqWEUm8dJ"
      }
    }
  ]
}
